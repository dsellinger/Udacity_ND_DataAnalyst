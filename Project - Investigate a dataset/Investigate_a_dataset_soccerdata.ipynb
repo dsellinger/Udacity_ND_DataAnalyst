{
 "cells": [
  {
   "cell_type": "markdown",
   "metadata": {},
   "source": [
    "# Project: SoccerData - How the formation influences the outcome of the game\n",
    "\n",
    "## Table of Contents\n",
    "<ul>\n",
    "<li><a href=\"#intro\">Introduction</a></li>\n",
    "<li><a href=\"#wrangling\">Data Wrangling</a></li>\n",
    "<li><a href=\"#eda\">Exploratory Data Analysis</a></li>\n",
    "<li><a href=\"#conclusions\">Conclusions</a></li>\n",
    "</ul>"
   ]
  },
  {
   "cell_type": "markdown",
   "metadata": {},
   "source": [
    "<a id='intro'></a>\n",
    "## Introduction\n",
    "\n",
    "In this Project the soccer dataset will be explored, since soccer has always been the love of my life.\n",
    "\n",
    "There is so much to explore but here only the influence of the formation on the outcome of the game will be explored. **This project will investigate wether a team with a more defensive/offensive formation more likeley to get less goals/to shoot more goals. And since this alone isn't an indicator of success, it will be analyzed wether more offensive or defensive and what kind of formations are more likely to win.**"
   ]
  },
  {
   "cell_type": "markdown",
   "metadata": {},
   "source": [
    "## Getting the Data  "
   ]
  },
  {
   "cell_type": "markdown",
   "metadata": {},
   "source": [
    "Via a SQL query (DB Browser) the relevant data is extracted. In this dataset every row contains information about both the home and the away team. For the following analysis it is more usefull to have these informationen seperated in two rows. So for example to calculate the average of the goals shot by a team there is no need to reference two columns but only one. With the intend not to lose information by separating the rows, a new column 'venue' was created to indicate wether a team played at 'home' or 'away'.\n",
    "\n",
    "In this case the League name (*league_name*), the Id of each match (*match_api_id*), the goals shot (*goals_marked*), the goals received (*goals_received*), the venue of the match (*venue*) and the Y-axis positions of the players. \n",
    "\n",
    "After getting the data, four independent variables will be derived from the Y-axis of the players:\n",
    "\n",
    "- the number of players on the defense\n",
    "- the number of players in the middelfield\n",
    "- the number of attackers\n",
    "- the average of all Y-axis positions as an indicator how offensive or defensive a formation is\n",
    "\n",
    "**This project explores wether the mentioned independet variables have an impact on the number of goals shot and received and with which formation it is more likely that a team wins.** \n",
    "\n",
    "To do so the following SQL-query extracted the relevant information from the dataset:\n"
   ]
  },
  {
   "cell_type": "markdown",
   "metadata": {},
   "source": [
    "```sql\n",
    "\n",
    "SELECT lh.name league_name, mh.match_api_id, mh.home_team_goal AS goals_marked, mh.away_team_goal AS goals_received, 'home' AS venue, mh.home_player_Y1 AS Y1, mh.home_player_Y2 AS Y2, mh.home_player_Y3 Y3, mh.home_player_Y4 Y4, mh.home_player_Y5 Y5, mh.home_player_Y6 Y6, mh.home_player_Y7 Y7, mh.home_player_Y8 Y8, mh.home_player_Y9 Y9, mh.home_player_Y10 Y10,mh.home_player_Y11 Y11\n",
    "FROM match mh\n",
    "JOIN league lh\n",
    "ON mh.league_id = lh.country_id\n",
    "WHERE lh.name IS Not NULL\n",
    "AND mh.match_api_id IS Not NUll\n",
    "AND mh.home_player_Y1 IS Not Null\n",
    "AND mh.home_player_Y2 IS Not Null \n",
    "AND mh.home_player_Y3 IS Not Null \n",
    "AND mh.home_player_Y4 IS Not Null \n",
    "AND mh.home_player_Y5 IS Not Null \n",
    "AND mh.home_player_Y6 IS Not Null \n",
    "AND mh.home_player_Y7 IS Not Null \n",
    "AND mh.home_player_Y8 IS Not Null \n",
    "AND mh.home_player_Y9 IS Not Null \n",
    "AND mh.home_player_Y10 IS Not Null \n",
    "AND mh.home_player_Y11 IS Not Null\n",
    "AND mh.away_player_Y1 IS Not Null \n",
    "AND mh.away_player_Y2 IS Not Null  \n",
    "AND mh.away_player_Y3 IS Not Null \n",
    "AND mh.away_player_Y4 IS Not Null \n",
    "AND mh.away_player_Y5 IS Not Null \n",
    "AND mh.away_player_Y6 IS Not Null \n",
    "AND mh.away_player_Y7 IS Not Null \n",
    "AND mh.away_player_Y8 IS Not Null \n",
    "AND mh.away_player_Y9 IS Not Null \n",
    "AND mh.away_player_Y10 IS Not Null \n",
    "AND mh.away_player_Y11 IS Not Null \n",
    "\n",
    "UNION ALL\n",
    "\n",
    "SELECT la.name league_name, ma.match_api_id, ma.away_team_goal AS goals_marked, ma.home_team_goal AS goals_received, 'away' AS venue, ma.away_player_Y1, ma.away_player_Y2, ma.away_player_Y3, ma.away_player_Y4, ma.away_player_Y5, ma.away_player_Y6, ma.away_player_Y7, ma.away_player_Y8, ma.away_player_Y9, ma.away_player_Y10, ma.away_player_Y11\n",
    "FROM match ma\n",
    "JOIN league la\n",
    "ON ma.league_id = la.country_id\n",
    "WHERE la.name IS Not NULL\n",
    "AND ma.match_api_id IS Not NUll\n",
    "AND ma.away_player_Y1 IS Not Null \n",
    "AND ma.away_player_Y2 IS Not Null  \n",
    "AND ma.away_player_Y3 IS Not Null \n",
    "AND ma.away_player_Y4 IS Not Null \n",
    "AND ma.away_player_Y5 IS Not Null \n",
    "AND ma.away_player_Y6 IS Not Null \n",
    "AND ma.away_player_Y7 IS Not Null \n",
    "AND ma.away_player_Y8 IS Not Null \n",
    "AND ma.away_player_Y9 IS Not Null \n",
    "AND ma.away_player_Y10 IS Not Null \n",
    "AND ma.away_player_Y11 IS Not Null\n",
    "AND ma.home_player_Y1 IS Not Null\n",
    "AND ma.home_player_Y2 IS Not Null \n",
    "AND ma.home_player_Y3 IS Not Null \n",
    "AND ma.home_player_Y4 IS Not Null \n",
    "AND ma.home_player_Y5 IS Not Null \n",
    "AND ma.home_player_Y6 IS Not Null \n",
    "AND ma.home_player_Y7 IS Not Null \n",
    "AND ma.home_player_Y8 IS Not Null \n",
    "AND ma.home_player_Y9 IS Not Null \n",
    "AND ma.home_player_Y10 IS Not Null \n",
    "AND ma.home_player_Y11 IS Not Null;\n",
    "\n",
    "```"
   ]
  },
  {
   "cell_type": "code",
   "execution_count": 1,
   "metadata": {},
   "outputs": [],
   "source": [
    "# Use this cell to set up import statements for all of the packages that you\n",
    "#   plan to use.\n",
    "\n",
    "import pandas as pd\n",
    "import numpy as np\n",
    "import matplotlib.pyplot as plt\n",
    "import seaborn as sns\n",
    "sns.set_style('darkgrid')\n",
    "\n",
    "# Remember to include a 'magic word' so that your visualizations are plotted\n",
    "#   inline with the notebook. See this page for more:\n",
    "#   http://ipython.readthedocs.io/en/stable/interactive/magics.html\n",
    "%matplotlib inline "
   ]
  },
  {
   "cell_type": "markdown",
   "metadata": {},
   "source": [
    "<a id='wrangling'></a>\n",
    "## Data Wrangling\n",
    "\n",
    "> **Tip**: In this section of the report, you will load in the data, check for cleanliness, and then trim and clean your dataset for analysis. Make sure that you document your steps carefully and justify your cleaning decisions.\n",
    "\n",
    "### General Properties"
   ]
  },
  {
   "cell_type": "code",
   "execution_count": 2,
   "metadata": {},
   "outputs": [
    {
     "data": {
      "text/html": [
       "<div>\n",
       "<style>\n",
       "    .dataframe thead tr:only-child th {\n",
       "        text-align: right;\n",
       "    }\n",
       "\n",
       "    .dataframe thead th {\n",
       "        text-align: left;\n",
       "    }\n",
       "\n",
       "    .dataframe tbody tr th {\n",
       "        vertical-align: top;\n",
       "    }\n",
       "</style>\n",
       "<table border=\"1\" class=\"dataframe\">\n",
       "  <thead>\n",
       "    <tr style=\"text-align: right;\">\n",
       "      <th></th>\n",
       "      <th>league_name</th>\n",
       "      <th>match_api_id</th>\n",
       "      <th>goals_marked</th>\n",
       "      <th>goals_received</th>\n",
       "      <th>venue</th>\n",
       "      <th>Y1</th>\n",
       "      <th>Y2</th>\n",
       "      <th>Y3</th>\n",
       "      <th>Y4</th>\n",
       "      <th>Y5</th>\n",
       "      <th>Y6</th>\n",
       "      <th>Y7</th>\n",
       "      <th>Y8</th>\n",
       "      <th>Y9</th>\n",
       "      <th>Y10</th>\n",
       "      <th>Y11</th>\n",
       "    </tr>\n",
       "  </thead>\n",
       "  <tbody>\n",
       "    <tr>\n",
       "      <th>0</th>\n",
       "      <td>Belgium Jupiler League</td>\n",
       "      <td>493016</td>\n",
       "      <td>1</td>\n",
       "      <td>1</td>\n",
       "      <td>home</td>\n",
       "      <td>1</td>\n",
       "      <td>3</td>\n",
       "      <td>3</td>\n",
       "      <td>3</td>\n",
       "      <td>3</td>\n",
       "      <td>7</td>\n",
       "      <td>7</td>\n",
       "      <td>7</td>\n",
       "      <td>7</td>\n",
       "      <td>10</td>\n",
       "      <td>10</td>\n",
       "    </tr>\n",
       "    <tr>\n",
       "      <th>1</th>\n",
       "      <td>Belgium Jupiler League</td>\n",
       "      <td>493017</td>\n",
       "      <td>2</td>\n",
       "      <td>1</td>\n",
       "      <td>home</td>\n",
       "      <td>1</td>\n",
       "      <td>3</td>\n",
       "      <td>3</td>\n",
       "      <td>3</td>\n",
       "      <td>3</td>\n",
       "      <td>7</td>\n",
       "      <td>7</td>\n",
       "      <td>7</td>\n",
       "      <td>7</td>\n",
       "      <td>10</td>\n",
       "      <td>10</td>\n",
       "    </tr>\n",
       "    <tr>\n",
       "      <th>2</th>\n",
       "      <td>Belgium Jupiler League</td>\n",
       "      <td>493018</td>\n",
       "      <td>3</td>\n",
       "      <td>0</td>\n",
       "      <td>home</td>\n",
       "      <td>1</td>\n",
       "      <td>3</td>\n",
       "      <td>3</td>\n",
       "      <td>3</td>\n",
       "      <td>3</td>\n",
       "      <td>7</td>\n",
       "      <td>7</td>\n",
       "      <td>7</td>\n",
       "      <td>7</td>\n",
       "      <td>10</td>\n",
       "      <td>10</td>\n",
       "    </tr>\n",
       "    <tr>\n",
       "      <th>3</th>\n",
       "      <td>Belgium Jupiler League</td>\n",
       "      <td>493019</td>\n",
       "      <td>4</td>\n",
       "      <td>0</td>\n",
       "      <td>home</td>\n",
       "      <td>1</td>\n",
       "      <td>3</td>\n",
       "      <td>3</td>\n",
       "      <td>3</td>\n",
       "      <td>3</td>\n",
       "      <td>7</td>\n",
       "      <td>7</td>\n",
       "      <td>7</td>\n",
       "      <td>7</td>\n",
       "      <td>10</td>\n",
       "      <td>10</td>\n",
       "    </tr>\n",
       "    <tr>\n",
       "      <th>4</th>\n",
       "      <td>Belgium Jupiler League</td>\n",
       "      <td>493020</td>\n",
       "      <td>0</td>\n",
       "      <td>1</td>\n",
       "      <td>home</td>\n",
       "      <td>1</td>\n",
       "      <td>3</td>\n",
       "      <td>3</td>\n",
       "      <td>3</td>\n",
       "      <td>3</td>\n",
       "      <td>7</td>\n",
       "      <td>7</td>\n",
       "      <td>7</td>\n",
       "      <td>7</td>\n",
       "      <td>10</td>\n",
       "      <td>10</td>\n",
       "    </tr>\n",
       "  </tbody>\n",
       "</table>\n",
       "</div>"
      ],
      "text/plain": [
       "              league_name  match_api_id  goals_marked  goals_received venue  \\\n",
       "0  Belgium Jupiler League        493016             1               1  home   \n",
       "1  Belgium Jupiler League        493017             2               1  home   \n",
       "2  Belgium Jupiler League        493018             3               0  home   \n",
       "3  Belgium Jupiler League        493019             4               0  home   \n",
       "4  Belgium Jupiler League        493020             0               1  home   \n",
       "\n",
       "   Y1  Y2  Y3  Y4  Y5  Y6  Y7  Y8  Y9  Y10  Y11  \n",
       "0   1   3   3   3   3   7   7   7   7   10   10  \n",
       "1   1   3   3   3   3   7   7   7   7   10   10  \n",
       "2   1   3   3   3   3   7   7   7   7   10   10  \n",
       "3   1   3   3   3   3   7   7   7   7   10   10  \n",
       "4   1   3   3   3   3   7   7   7   7   10   10  "
      ]
     },
     "execution_count": 2,
     "metadata": {},
     "output_type": "execute_result"
    }
   ],
   "source": [
    "# Load your data and print out a few lines. Perform operations to inspect data\n",
    "#   types and look for instances of missing or possibly errant data.\n",
    "\n",
    "df = pd.read_csv('SQL_query_investigate2.csv')\n",
    "df.head()"
   ]
  },
  {
   "cell_type": "code",
   "execution_count": 3,
   "metadata": {},
   "outputs": [
    {
     "name": "stdout",
     "output_type": "stream",
     "text": [
      "<class 'pandas.core.frame.DataFrame'>\n",
      "RangeIndex: 48280 entries, 0 to 48279\n",
      "Data columns (total 16 columns):\n",
      "league_name       48280 non-null object\n",
      "match_api_id      48280 non-null int64\n",
      "goals_marked      48280 non-null int64\n",
      "goals_received    48280 non-null int64\n",
      "venue             48280 non-null object\n",
      "Y1                48280 non-null int64\n",
      "Y2                48280 non-null int64\n",
      "Y3                48280 non-null int64\n",
      "Y4                48280 non-null int64\n",
      "Y5                48280 non-null int64\n",
      "Y6                48280 non-null int64\n",
      "Y7                48280 non-null int64\n",
      "Y8                48280 non-null int64\n",
      "Y9                48280 non-null int64\n",
      "Y10               48280 non-null int64\n",
      "Y11               48280 non-null int64\n",
      "dtypes: int64(14), object(2)\n",
      "memory usage: 5.9+ MB\n"
     ]
    }
   ],
   "source": [
    "# inspect if the variables have the right datatype and look for missing data\n",
    "df.info()"
   ]
  },
  {
   "cell_type": "markdown",
   "metadata": {},
   "source": [
    "The datatypes seem ok and there are no missing values. This is due to the fact, that observations with missing values were obmitted from the dataset through the SQL-query. \n",
    "\n",
    ">In the first attempt to this project I omitted missing values in the Project Notebook. Unfortunately in the following steps some \n",
    "abnormalities occurred. For example the count of lost and won matches wasn't equal. If only one team of a match had missing Y-values, then due to the row separation one team stays in the dataset and the other is omitted due to missing values. This should now be fixed by "
   ]
  },
  {
   "cell_type": "markdown",
   "metadata": {},
   "source": [
    "### Data Cleaning - Checking missing Y-values and duplicates"
   ]
  },
  {
   "cell_type": "code",
   "execution_count": 4,
   "metadata": {},
   "outputs": [
    {
     "data": {
      "text/plain": [
       "league_name       0\n",
       "match_api_id      0\n",
       "goals_marked      0\n",
       "goals_received    0\n",
       "venue             0\n",
       "Y1                0\n",
       "Y2                0\n",
       "Y3                0\n",
       "Y4                0\n",
       "Y5                0\n",
       "Y6                0\n",
       "Y7                0\n",
       "Y8                0\n",
       "Y9                0\n",
       "Y10               0\n",
       "Y11               0\n",
       "dtype: int64"
      ]
     },
     "execution_count": 4,
     "metadata": {},
     "output_type": "execute_result"
    }
   ],
   "source": [
    "df.isnull().sum()"
   ]
  },
  {
   "cell_type": "markdown",
   "metadata": {},
   "source": [
    "There shouldn't be any duplicates - but better check:"
   ]
  },
  {
   "cell_type": "code",
   "execution_count": 5,
   "metadata": {},
   "outputs": [
    {
     "data": {
      "text/plain": [
       "0"
      ]
     },
     "execution_count": 5,
     "metadata": {},
     "output_type": "execute_result"
    }
   ],
   "source": [
    "sum(df.duplicated())"
   ]
  },
  {
   "cell_type": "markdown",
   "metadata": {},
   "source": [
    "### Variable Creation "
   ]
  },
  {
   "cell_type": "markdown",
   "metadata": {},
   "source": [
    "With this clean dataset the beforementioned new independent variables can be created.  \n",
    "\n",
    "1. Create a function that iterates over the Y-values in its row and counts\n",
    "the number of defenders (2-3) middlefield players (4-10) and attackers (>10) and gives back a column that returns for eacht row the formation in the format x-x-x. \n",
    "\n",
    "2. Create three columns that include only the number of defenders (n_def), of middlefield players (n_mid) and attackers (n_att).\n",
    "\n",
    "3. Create an indicator that measures whether the formation is more defensive or offensive - this is done by summing up the Y-values. The higher the sum, the more offensive the formation.\n"
   ]
  },
  {
   "cell_type": "code",
   "execution_count": 6,
   "metadata": {},
   "outputs": [],
   "source": [
    "# create a function that iterates over the Y-values in its row and counts\n",
    "# the number of defenders (2-3) middlefield players (4-10) and attackers (>10)\n",
    "\n",
    "# to create columns based on conditions I searched on stackoverflow:\n",
    "# https://stackoverflow.com/questions/21702342/creating-a-new-column-based-on-if-elif-else-condition\n",
    "\n",
    "def y_count(row):\n",
    "    Ys = ['Y2','Y3','Y4','Y5','Y6','Y7','Y8','Y9','Y10','Y11']\n",
    "    def_count= 0\n",
    "    mid_count= 0\n",
    "    att_count= 0\n",
    "\n",
    "    for i in Ys:\n",
    "        if row[i] >= 2 and row[i] <= 3:\n",
    "            def_count += 1\n",
    "        elif row[i] >= 4 and row[i] < 10:\n",
    "            mid_count += 1\n",
    "        else:\n",
    "            att_count += 1\n",
    "            \n",
    "    formation = \"{}-{}-{}\".format(def_count,mid_count,att_count)  \n",
    "    return formation\n",
    "\n",
    "df['formation'] = df.apply(y_count, axis=1)"
   ]
  },
  {
   "cell_type": "code",
   "execution_count": 7,
   "metadata": {},
   "outputs": [],
   "source": [
    "# 2. Three functions that create three columns indicating the count of defenders, \n",
    "# midfield players and attackers. \n",
    "\n",
    "# I tried to just grab the information from the 'formation' column but I wasn't able \n",
    "# to iterate over the rows. I tried:\n",
    "#\n",
    "# df['n_def'] = df.apply(int(df.iloc[row]['formation'][0]), axis=1)\n",
    "#\n",
    "# NameError:  name 'row' is not defined\n",
    "#\n",
    "# How should the function look like?\n",
    "\n",
    "\n",
    "def def_count(row):\n",
    "    Ys = ['Y2','Y3','Y4','Y5','Y6','Y7','Y8','Y9','Y10','Y11']\n",
    "    def_ct= 0\n",
    "    \n",
    "    for i in Ys:\n",
    "        if row[i] >= 2 and row[i] <= 3:\n",
    "            def_ct += 1\n",
    "    return int(def_ct)\n",
    "\n",
    "def mid_count(row):\n",
    "    Ys = ['Y2','Y3','Y4','Y5','Y6','Y7','Y8','Y9','Y10','Y11']\n",
    "    mid_ct= 0\n",
    "    \n",
    "    for i in Ys:\n",
    "        if row[i] >= 4 and row[i] < 10:\n",
    "            mid_ct += 1\n",
    "    return int(mid_ct)\n",
    "\n",
    "def att_count(row):\n",
    "    Ys = ['Y2','Y3','Y4','Y5','Y6','Y7','Y8','Y9','Y10','Y11']\n",
    "    att_ct= 0\n",
    "    \n",
    "    for i in Ys:\n",
    "        if row[i] >= 10:\n",
    "            att_ct += 1\n",
    "    return int(att_ct)\n",
    "\n",
    "df['n_def'] = df.apply(def_count, axis=1)\n",
    "df['n_mid'] = df.apply(mid_count, axis=1)\n",
    "df['n_att'] = df.apply(att_count, axis=1)"
   ]
  },
  {
   "cell_type": "code",
   "execution_count": 8,
   "metadata": {},
   "outputs": [
    {
     "data": {
      "text/html": [
       "<div>\n",
       "<style>\n",
       "    .dataframe thead tr:only-child th {\n",
       "        text-align: right;\n",
       "    }\n",
       "\n",
       "    .dataframe thead th {\n",
       "        text-align: left;\n",
       "    }\n",
       "\n",
       "    .dataframe tbody tr th {\n",
       "        vertical-align: top;\n",
       "    }\n",
       "</style>\n",
       "<table border=\"1\" class=\"dataframe\">\n",
       "  <thead>\n",
       "    <tr style=\"text-align: right;\">\n",
       "      <th></th>\n",
       "      <th>league_name</th>\n",
       "      <th>match_api_id</th>\n",
       "      <th>goals_marked</th>\n",
       "      <th>goals_received</th>\n",
       "      <th>venue</th>\n",
       "      <th>Y1</th>\n",
       "      <th>Y2</th>\n",
       "      <th>Y3</th>\n",
       "      <th>Y4</th>\n",
       "      <th>Y5</th>\n",
       "      <th>...</th>\n",
       "      <th>Y7</th>\n",
       "      <th>Y8</th>\n",
       "      <th>Y9</th>\n",
       "      <th>Y10</th>\n",
       "      <th>Y11</th>\n",
       "      <th>formation</th>\n",
       "      <th>n_def</th>\n",
       "      <th>n_mid</th>\n",
       "      <th>n_att</th>\n",
       "      <th>indicator</th>\n",
       "    </tr>\n",
       "  </thead>\n",
       "  <tbody>\n",
       "    <tr>\n",
       "      <th>48275</th>\n",
       "      <td>Switzerland Super League</td>\n",
       "      <td>1992091</td>\n",
       "      <td>0</td>\n",
       "      <td>1</td>\n",
       "      <td>away</td>\n",
       "      <td>1</td>\n",
       "      <td>3</td>\n",
       "      <td>3</td>\n",
       "      <td>3</td>\n",
       "      <td>3</td>\n",
       "      <td>...</td>\n",
       "      <td>6</td>\n",
       "      <td>8</td>\n",
       "      <td>8</td>\n",
       "      <td>8</td>\n",
       "      <td>11</td>\n",
       "      <td>4-5-1</td>\n",
       "      <td>4</td>\n",
       "      <td>5</td>\n",
       "      <td>1</td>\n",
       "      <td>60</td>\n",
       "    </tr>\n",
       "    <tr>\n",
       "      <th>48276</th>\n",
       "      <td>Switzerland Super League</td>\n",
       "      <td>1992092</td>\n",
       "      <td>2</td>\n",
       "      <td>1</td>\n",
       "      <td>away</td>\n",
       "      <td>1</td>\n",
       "      <td>3</td>\n",
       "      <td>3</td>\n",
       "      <td>3</td>\n",
       "      <td>3</td>\n",
       "      <td>...</td>\n",
       "      <td>7</td>\n",
       "      <td>7</td>\n",
       "      <td>10</td>\n",
       "      <td>10</td>\n",
       "      <td>10</td>\n",
       "      <td>4-3-3</td>\n",
       "      <td>4</td>\n",
       "      <td>3</td>\n",
       "      <td>3</td>\n",
       "      <td>64</td>\n",
       "    </tr>\n",
       "    <tr>\n",
       "      <th>48277</th>\n",
       "      <td>Switzerland Super League</td>\n",
       "      <td>1992093</td>\n",
       "      <td>0</td>\n",
       "      <td>2</td>\n",
       "      <td>away</td>\n",
       "      <td>1</td>\n",
       "      <td>3</td>\n",
       "      <td>3</td>\n",
       "      <td>3</td>\n",
       "      <td>3</td>\n",
       "      <td>...</td>\n",
       "      <td>6</td>\n",
       "      <td>8</td>\n",
       "      <td>8</td>\n",
       "      <td>8</td>\n",
       "      <td>11</td>\n",
       "      <td>4-5-1</td>\n",
       "      <td>4</td>\n",
       "      <td>5</td>\n",
       "      <td>1</td>\n",
       "      <td>60</td>\n",
       "    </tr>\n",
       "    <tr>\n",
       "      <th>48278</th>\n",
       "      <td>Switzerland Super League</td>\n",
       "      <td>1992094</td>\n",
       "      <td>0</td>\n",
       "      <td>0</td>\n",
       "      <td>away</td>\n",
       "      <td>1</td>\n",
       "      <td>3</td>\n",
       "      <td>3</td>\n",
       "      <td>3</td>\n",
       "      <td>3</td>\n",
       "      <td>...</td>\n",
       "      <td>6</td>\n",
       "      <td>8</td>\n",
       "      <td>8</td>\n",
       "      <td>8</td>\n",
       "      <td>11</td>\n",
       "      <td>4-5-1</td>\n",
       "      <td>4</td>\n",
       "      <td>5</td>\n",
       "      <td>1</td>\n",
       "      <td>60</td>\n",
       "    </tr>\n",
       "    <tr>\n",
       "      <th>48279</th>\n",
       "      <td>Switzerland Super League</td>\n",
       "      <td>1992095</td>\n",
       "      <td>3</td>\n",
       "      <td>4</td>\n",
       "      <td>away</td>\n",
       "      <td>1</td>\n",
       "      <td>3</td>\n",
       "      <td>3</td>\n",
       "      <td>3</td>\n",
       "      <td>3</td>\n",
       "      <td>...</td>\n",
       "      <td>6</td>\n",
       "      <td>8</td>\n",
       "      <td>8</td>\n",
       "      <td>8</td>\n",
       "      <td>11</td>\n",
       "      <td>4-5-1</td>\n",
       "      <td>4</td>\n",
       "      <td>5</td>\n",
       "      <td>1</td>\n",
       "      <td>60</td>\n",
       "    </tr>\n",
       "  </tbody>\n",
       "</table>\n",
       "<p>5 rows × 21 columns</p>\n",
       "</div>"
      ],
      "text/plain": [
       "                    league_name  match_api_id  goals_marked  goals_received  \\\n",
       "48275  Switzerland Super League       1992091             0               1   \n",
       "48276  Switzerland Super League       1992092             2               1   \n",
       "48277  Switzerland Super League       1992093             0               2   \n",
       "48278  Switzerland Super League       1992094             0               0   \n",
       "48279  Switzerland Super League       1992095             3               4   \n",
       "\n",
       "      venue  Y1  Y2  Y3  Y4  Y5    ...      Y7  Y8  Y9  Y10  Y11  formation  \\\n",
       "48275  away   1   3   3   3   3    ...       6   8   8    8   11      4-5-1   \n",
       "48276  away   1   3   3   3   3    ...       7   7  10   10   10      4-3-3   \n",
       "48277  away   1   3   3   3   3    ...       6   8   8    8   11      4-5-1   \n",
       "48278  away   1   3   3   3   3    ...       6   8   8    8   11      4-5-1   \n",
       "48279  away   1   3   3   3   3    ...       6   8   8    8   11      4-5-1   \n",
       "\n",
       "      n_def  n_mid  n_att  indicator  \n",
       "48275     4      5      1         60  \n",
       "48276     4      3      3         64  \n",
       "48277     4      5      1         60  \n",
       "48278     4      5      1         60  \n",
       "48279     4      5      1         60  \n",
       "\n",
       "[5 rows x 21 columns]"
      ]
     },
     "execution_count": 8,
     "metadata": {},
     "output_type": "execute_result"
    }
   ],
   "source": [
    "# create a column containing an indicator that indicates how offensive/defensive a formation is - based on the sum of the Y-values\n",
    "df['indicator'] = df.iloc[:,5:16].sum(axis=1)\n",
    "df.tail()"
   ]
  },
  {
   "cell_type": "markdown",
   "metadata": {},
   "source": [
    "Now that the independent variables are created, we only need one extra column that tells wether the match was won or lost"
   ]
  },
  {
   "cell_type": "code",
   "execution_count": 9,
   "metadata": {},
   "outputs": [],
   "source": [
    "def match_out(row):\n",
    "    if row['goals_marked'] > row['goals_received']:\n",
    "        return 'win'\n",
    "    if row['goals_marked'] < row['goals_received']:\n",
    "        return 'lose'\n",
    "    else:\n",
    "        return 'draw'\n",
    "\n",
    "df['match_outcome'] = df.apply(match_out, axis=1)"
   ]
  },
  {
   "cell_type": "code",
   "execution_count": 10,
   "metadata": {},
   "outputs": [
    {
     "data": {
      "text/html": [
       "<div>\n",
       "<style>\n",
       "    .dataframe thead tr:only-child th {\n",
       "        text-align: right;\n",
       "    }\n",
       "\n",
       "    .dataframe thead th {\n",
       "        text-align: left;\n",
       "    }\n",
       "\n",
       "    .dataframe tbody tr th {\n",
       "        vertical-align: top;\n",
       "    }\n",
       "</style>\n",
       "<table border=\"1\" class=\"dataframe\">\n",
       "  <thead>\n",
       "    <tr style=\"text-align: right;\">\n",
       "      <th></th>\n",
       "      <th>league_name</th>\n",
       "      <th>match_api_id</th>\n",
       "      <th>goals_marked</th>\n",
       "      <th>goals_received</th>\n",
       "      <th>venue</th>\n",
       "      <th>Y1</th>\n",
       "      <th>Y2</th>\n",
       "      <th>Y3</th>\n",
       "      <th>Y4</th>\n",
       "      <th>Y5</th>\n",
       "      <th>...</th>\n",
       "      <th>Y8</th>\n",
       "      <th>Y9</th>\n",
       "      <th>Y10</th>\n",
       "      <th>Y11</th>\n",
       "      <th>formation</th>\n",
       "      <th>n_def</th>\n",
       "      <th>n_mid</th>\n",
       "      <th>n_att</th>\n",
       "      <th>indicator</th>\n",
       "      <th>match_outcome</th>\n",
       "    </tr>\n",
       "  </thead>\n",
       "  <tbody>\n",
       "    <tr>\n",
       "      <th>0</th>\n",
       "      <td>Belgium Jupiler League</td>\n",
       "      <td>493016</td>\n",
       "      <td>1</td>\n",
       "      <td>1</td>\n",
       "      <td>home</td>\n",
       "      <td>1</td>\n",
       "      <td>3</td>\n",
       "      <td>3</td>\n",
       "      <td>3</td>\n",
       "      <td>3</td>\n",
       "      <td>...</td>\n",
       "      <td>7</td>\n",
       "      <td>7</td>\n",
       "      <td>10</td>\n",
       "      <td>10</td>\n",
       "      <td>4-4-2</td>\n",
       "      <td>4</td>\n",
       "      <td>4</td>\n",
       "      <td>2</td>\n",
       "      <td>61</td>\n",
       "      <td>draw</td>\n",
       "    </tr>\n",
       "    <tr>\n",
       "      <th>1</th>\n",
       "      <td>Belgium Jupiler League</td>\n",
       "      <td>493017</td>\n",
       "      <td>2</td>\n",
       "      <td>1</td>\n",
       "      <td>home</td>\n",
       "      <td>1</td>\n",
       "      <td>3</td>\n",
       "      <td>3</td>\n",
       "      <td>3</td>\n",
       "      <td>3</td>\n",
       "      <td>...</td>\n",
       "      <td>7</td>\n",
       "      <td>7</td>\n",
       "      <td>10</td>\n",
       "      <td>10</td>\n",
       "      <td>4-4-2</td>\n",
       "      <td>4</td>\n",
       "      <td>4</td>\n",
       "      <td>2</td>\n",
       "      <td>61</td>\n",
       "      <td>win</td>\n",
       "    </tr>\n",
       "    <tr>\n",
       "      <th>2</th>\n",
       "      <td>Belgium Jupiler League</td>\n",
       "      <td>493018</td>\n",
       "      <td>3</td>\n",
       "      <td>0</td>\n",
       "      <td>home</td>\n",
       "      <td>1</td>\n",
       "      <td>3</td>\n",
       "      <td>3</td>\n",
       "      <td>3</td>\n",
       "      <td>3</td>\n",
       "      <td>...</td>\n",
       "      <td>7</td>\n",
       "      <td>7</td>\n",
       "      <td>10</td>\n",
       "      <td>10</td>\n",
       "      <td>4-4-2</td>\n",
       "      <td>4</td>\n",
       "      <td>4</td>\n",
       "      <td>2</td>\n",
       "      <td>61</td>\n",
       "      <td>win</td>\n",
       "    </tr>\n",
       "    <tr>\n",
       "      <th>3</th>\n",
       "      <td>Belgium Jupiler League</td>\n",
       "      <td>493019</td>\n",
       "      <td>4</td>\n",
       "      <td>0</td>\n",
       "      <td>home</td>\n",
       "      <td>1</td>\n",
       "      <td>3</td>\n",
       "      <td>3</td>\n",
       "      <td>3</td>\n",
       "      <td>3</td>\n",
       "      <td>...</td>\n",
       "      <td>7</td>\n",
       "      <td>7</td>\n",
       "      <td>10</td>\n",
       "      <td>10</td>\n",
       "      <td>4-4-2</td>\n",
       "      <td>4</td>\n",
       "      <td>4</td>\n",
       "      <td>2</td>\n",
       "      <td>61</td>\n",
       "      <td>win</td>\n",
       "    </tr>\n",
       "    <tr>\n",
       "      <th>4</th>\n",
       "      <td>Belgium Jupiler League</td>\n",
       "      <td>493020</td>\n",
       "      <td>0</td>\n",
       "      <td>1</td>\n",
       "      <td>home</td>\n",
       "      <td>1</td>\n",
       "      <td>3</td>\n",
       "      <td>3</td>\n",
       "      <td>3</td>\n",
       "      <td>3</td>\n",
       "      <td>...</td>\n",
       "      <td>7</td>\n",
       "      <td>7</td>\n",
       "      <td>10</td>\n",
       "      <td>10</td>\n",
       "      <td>4-4-2</td>\n",
       "      <td>4</td>\n",
       "      <td>4</td>\n",
       "      <td>2</td>\n",
       "      <td>61</td>\n",
       "      <td>lose</td>\n",
       "    </tr>\n",
       "  </tbody>\n",
       "</table>\n",
       "<p>5 rows × 22 columns</p>\n",
       "</div>"
      ],
      "text/plain": [
       "              league_name  match_api_id  goals_marked  goals_received venue  \\\n",
       "0  Belgium Jupiler League        493016             1               1  home   \n",
       "1  Belgium Jupiler League        493017             2               1  home   \n",
       "2  Belgium Jupiler League        493018             3               0  home   \n",
       "3  Belgium Jupiler League        493019             4               0  home   \n",
       "4  Belgium Jupiler League        493020             0               1  home   \n",
       "\n",
       "   Y1  Y2  Y3  Y4  Y5      ...        Y8  Y9  Y10  Y11  formation  n_def  \\\n",
       "0   1   3   3   3   3      ...         7   7   10   10      4-4-2      4   \n",
       "1   1   3   3   3   3      ...         7   7   10   10      4-4-2      4   \n",
       "2   1   3   3   3   3      ...         7   7   10   10      4-4-2      4   \n",
       "3   1   3   3   3   3      ...         7   7   10   10      4-4-2      4   \n",
       "4   1   3   3   3   3      ...         7   7   10   10      4-4-2      4   \n",
       "\n",
       "  n_mid  n_att  indicator  match_outcome  \n",
       "0     4      2         61           draw  \n",
       "1     4      2         61            win  \n",
       "2     4      2         61            win  \n",
       "3     4      2         61            win  \n",
       "4     4      2         61           lose  \n",
       "\n",
       "[5 rows x 22 columns]"
      ]
     },
     "execution_count": 10,
     "metadata": {},
     "output_type": "execute_result"
    }
   ],
   "source": [
    "df.head()"
   ]
  },
  {
   "cell_type": "code",
   "execution_count": 11,
   "metadata": {},
   "outputs": [
    {
     "name": "stdout",
     "output_type": "stream",
     "text": [
      "<class 'pandas.core.frame.DataFrame'>\n",
      "RangeIndex: 48280 entries, 0 to 48279\n",
      "Data columns (total 22 columns):\n",
      "league_name       48280 non-null object\n",
      "match_api_id      48280 non-null int64\n",
      "goals_marked      48280 non-null int64\n",
      "goals_received    48280 non-null int64\n",
      "venue             48280 non-null object\n",
      "Y1                48280 non-null int64\n",
      "Y2                48280 non-null int64\n",
      "Y3                48280 non-null int64\n",
      "Y4                48280 non-null int64\n",
      "Y5                48280 non-null int64\n",
      "Y6                48280 non-null int64\n",
      "Y7                48280 non-null int64\n",
      "Y8                48280 non-null int64\n",
      "Y9                48280 non-null int64\n",
      "Y10               48280 non-null int64\n",
      "Y11               48280 non-null int64\n",
      "formation         48280 non-null object\n",
      "n_def             48280 non-null int64\n",
      "n_mid             48280 non-null int64\n",
      "n_att             48280 non-null int64\n",
      "indicator         48280 non-null int64\n",
      "match_outcome     48280 non-null object\n",
      "dtypes: int64(18), object(4)\n",
      "memory usage: 8.1+ MB\n"
     ]
    }
   ],
   "source": [
    "# doublecheck if the created columns have the right format\n",
    "\n",
    "df.info()"
   ]
  },
  {
   "cell_type": "markdown",
   "metadata": {},
   "source": [
    "<a id='eda'></a>\n",
    "## Exploratory Data Analysis\n",
    "\n",
    "### Calculate the benchmark\n",
    "\n",
    "1. the mean of goals shot per match and the distribution of goals shot per match\n",
    "2. the percentage of matches that were won/lost "
   ]
  },
  {
   "cell_type": "code",
   "execution_count": 12,
   "metadata": {},
   "outputs": [
    {
     "data": {
      "text/plain": [
       "1.3621996685998343"
      ]
     },
     "execution_count": 12,
     "metadata": {},
     "output_type": "execute_result"
    }
   ],
   "source": [
    "df['goals_marked'].mean()\n"
   ]
  },
  {
   "cell_type": "code",
   "execution_count": 13,
   "metadata": {},
   "outputs": [
    {
     "data": {
      "image/png": "[encoded data removed]",
      "text/plain": [
       "<matplotlib.figure.Figure at 0x7f64ed519b00>"
      ]
     },
     "metadata": {},
     "output_type": "display_data"
    }
   ],
   "source": [
    "df['goals_marked'].hist()\n",
    "plt.xlabel('goals that a team shoots per match')\n",
    "plt.ylabel('count of observations')\n",
    "plt.title('distribution of goals shot per match');"
   ]
  },
  {
   "cell_type": "code",
   "execution_count": 14,
   "metadata": {},
   "outputs": [
    {
     "data": {
      "text/plain": [
       "lose    18020\n",
       "win     18020\n",
       "draw    12240\n",
       "Name: match_outcome, dtype: int64"
      ]
     },
     "execution_count": 14,
     "metadata": {},
     "output_type": "execute_result"
    }
   ],
   "source": [
    "df['match_outcome'].value_counts()"
   ]
  },
  {
   "cell_type": "code",
   "execution_count": 15,
   "metadata": {},
   "outputs": [
    {
     "data": {
      "text/plain": [
       "lose    0.373239\n",
       "win     0.373239\n",
       "draw    0.253521\n",
       "Name: match_outcome, dtype: float64"
      ]
     },
     "execution_count": 15,
     "metadata": {},
     "output_type": "execute_result"
    }
   ],
   "source": [
    "# get the outcome proportions by dividing the categories by total\n",
    "outcome_prop = df['match_outcome'].value_counts()/ df['match_outcome'].count()\n",
    "outcome_prop"
   ]
  },
  {
   "cell_type": "code",
   "execution_count": 16,
   "metadata": {},
   "outputs": [
    {
     "data": {
      "image/png": "[encoded data removed]",
      "text/plain": [
       "<matplotlib.figure.Figure at 0x7f64ed251a20>"
      ]
     },
     "metadata": {},
     "output_type": "display_data"
    }
   ],
   "source": [
    "# plot the results\n",
    "outcome_prop.plot(kind='bar')\n",
    "plt.xlabel('outcome of the match')\n",
    "plt.ylabel('proability to win')\n",
    "plt.title('probability for different outcome of the match');"
   ]
  },
  {
   "cell_type": "markdown",
   "metadata": {},
   "source": [
    "### Impact of the formation on the goals shot and received"
   ]
  },
  {
   "cell_type": "markdown",
   "metadata": {},
   "source": [
    "#### indicator vs. goals_marked / goals_received "
   ]
  },
  {
   "cell_type": "code",
   "execution_count": 18,
   "metadata": {},
   "outputs": [
    {
     "name": "stdout",
     "output_type": "stream",
     "text": [
      "61.2938483844\n"
     ]
    },
    {
     "data": {
      "image/png": "[encoded data removed]",
      "text/plain": [
       "<matplotlib.figure.Figure at 0x7f64ed21ea20>"
      ]
     },
     "metadata": {},
     "output_type": "display_data"
    }
   ],
   "source": [
    "# Is there a correlation of the 'indicator' variable and the goals shot and goals received ?\n",
    "print(df['indicator'].mean())\n",
    "df.plot(x='indicator', y='goals_marked', kind='scatter', title='correlation of shot goals and the indicator variable');\n"
   ]
  },
  {
   "cell_type": "code",
   "execution_count": 19,
   "metadata": {},
   "outputs": [
    {
     "data": {
      "text/plain": [
       "array([[ 1.        ,  0.04093515],\n",
       "       [ 0.04093515,  1.        ]])"
      ]
     },
     "execution_count": 19,
     "metadata": {},
     "output_type": "execute_result"
    }
   ],
   "source": [
    "np.corrcoef(df['indicator'],df['goals_marked'])"
   ]
  },
  {
   "cell_type": "markdown",
   "metadata": {},
   "source": [
    "According to the scatterplot there is no apparent correlation. The only thing that can be said, is that in this dataset no team ever shot more than 7 goals with an extremely offensive formation. The observation is underpinned by the following correlation coefficient, that is slightly above 0. "
   ]
  },
  {
   "cell_type": "code",
   "execution_count": 20,
   "metadata": {},
   "outputs": [
    {
     "data": {
      "image/png": "[encoded data removed]",
      "text/plain": [
       "<matplotlib.figure.Figure at 0x7f64ed18de10>"
      ]
     },
     "metadata": {},
     "output_type": "display_data"
    }
   ],
   "source": [
    "df.plot(x='indicator', y='goals_received', kind='scatter', title='correlation of goals conceded and the indicator variable');"
   ]
  },
  {
   "cell_type": "code",
   "execution_count": 21,
   "metadata": {},
   "outputs": [
    {
     "data": {
      "text/plain": [
       "array([[ 1.        , -0.01094149],\n",
       "       [-0.01094149,  1.        ]])"
      ]
     },
     "execution_count": 21,
     "metadata": {},
     "output_type": "execute_result"
    }
   ],
   "source": [
    "np.corrcoef(df['indicator'],df['goals_received'])"
   ]
  },
  {
   "cell_type": "markdown",
   "metadata": {},
   "source": [
    "The plot for received goals does not differ a lot from the previous one. In both cases there is no correlation of the 'indicator' variable and the goals shot. It rather looks like having a more mainstream formation (formations aroound the mean=61) lets you shoot more goals but you also get more goals, but this might also be explained by the fact that there are more mainstream-observations than extrem ones. Maybe the mean of goals shot for every indicator offers more insight: "
   ]
  },
  {
   "cell_type": "code",
   "execution_count": 22,
   "metadata": {},
   "outputs": [
    {
     "data": {
      "text/plain": [
       "indicator\n",
       "55    0.980676\n",
       "56    1.385925\n",
       "57    1.179751\n",
       "58    1.299603\n",
       "59    1.195138\n",
       "60    1.353722\n",
       "61    1.360280\n",
       "62    1.310515\n",
       "63    1.461707\n",
       "64    1.478122\n",
       "65    1.293005\n",
       "67    1.361823\n",
       "68    1.406360\n",
       "69    1.387900\n",
       "Name: goals_marked, dtype: float64"
      ]
     },
     "execution_count": 22,
     "metadata": {},
     "output_type": "execute_result"
    }
   ],
   "source": [
    "ind_marked_mean = df.groupby('indicator')['goals_marked'].mean()\n",
    "ind_marked_mean"
   ]
  },
  {
   "cell_type": "code",
   "execution_count": 23,
   "metadata": {},
   "outputs": [
    {
     "data": {
      "text/plain": [
       "array([55, 56, 57, 58, 59, 60, 61, 62, 63, 64, 65, 67, 68, 69])"
      ]
     },
     "execution_count": 23,
     "metadata": {},
     "output_type": "execute_result"
    }
   ],
   "source": [
    "ind_marked_mean.index.values"
   ]
  },
  {
   "cell_type": "code",
   "execution_count": 24,
   "metadata": {},
   "outputs": [],
   "source": [
    "goals_mar_list = [df['goals_marked'].mean()] * 14"
   ]
  },
  {
   "cell_type": "code",
   "execution_count": 25,
   "metadata": {},
   "outputs": [
    {
     "data": {
      "image/png": "[encoded data removed]",
      "text/plain": [
       "<matplotlib.figure.Figure at 0x7f64ea647400>"
      ]
     },
     "metadata": {},
     "output_type": "display_data"
    }
   ],
   "source": [
    "# remeber the mean of goals_marked = 1.36\n",
    "plt.plot(ind_marked_mean.index.values, ind_marked_mean,'b-',ind_marked_mean.index.values, goals_mar_list,'r-' )\n",
    "plt.xlabel('indicator')\n",
    "plt.ylabel('goals shot per match')\n",
    "plt.title('average goals shot per indicator variable');"
   ]
  },
  {
   "cell_type": "markdown",
   "metadata": {},
   "source": [
    "there is a little trend indicating that a more offensive formation (>61) results in more goals shot. But this is only the case for formations with the sum of 63,64 and 68, whereas teams with more defensive formations in fact tend to shoot less goals. In fact slightly offensive formations seem to better fulfill their purpose than extremely offensive formations."
   ]
  },
  {
   "cell_type": "code",
   "execution_count": 26,
   "metadata": {},
   "outputs": [
    {
     "data": {
      "text/plain": [
       "indicator\n",
       "55    1.768116\n",
       "56    1.247446\n",
       "57    1.468085\n",
       "58    1.410714\n",
       "59    1.379620\n",
       "60    1.368237\n",
       "61    1.347314\n",
       "62    1.457304\n",
       "63    1.343545\n",
       "64    1.354475\n",
       "65    1.333716\n",
       "67    1.239316\n",
       "68    1.358657\n",
       "69    1.327402\n",
       "Name: goals_received, dtype: float64"
      ]
     },
     "execution_count": 26,
     "metadata": {},
     "output_type": "execute_result"
    }
   ],
   "source": [
    "ind_received_mean = df.groupby('indicator')['goals_received'].mean()\n",
    "ind_received_mean"
   ]
  },
  {
   "cell_type": "code",
   "execution_count": 27,
   "metadata": {},
   "outputs": [
    {
     "data": {
      "image/png": "[encoded data removed]",
      "text/plain": [
       "<matplotlib.figure.Figure at 0x7f64ecdce048>"
      ]
     },
     "metadata": {},
     "output_type": "display_data"
    }
   ],
   "source": [
    "goals_rec_list = [df['goals_received'].mean()] * 14\n",
    "plt.plot(ind_received_mean.index.values, ind_received_mean,'b-',ind_received_mean.index.values, goals_rec_list,'r-' )\n",
    "plt.xlabel('indicator')\n",
    "plt.ylabel('goals received per match')\n",
    "plt.title('average goals received per indicator variable');"
   ]
  },
  {
   "cell_type": "markdown",
   "metadata": {},
   "source": [
    "In contrast to the previous findings, the outcome here is really unexpected. More defensive formations (except for 56) get more goals on average than offensive formations. All offensive formations (>61) concede at maximum average goals. \n",
    "\n",
    "Let's see if taking the number of attackers and defenders comes to the same results:"
   ]
  },
  {
   "cell_type": "markdown",
   "metadata": {},
   "source": [
    "#### number of attackers vs. goals_marked and number of defenders vs. goals_received"
   ]
  },
  {
   "cell_type": "code",
   "execution_count": 28,
   "metadata": {},
   "outputs": [
    {
     "data": {
      "text/plain": [
       "n_att\n",
       "1    1.296239\n",
       "2    1.375020\n",
       "3    1.477084\n",
       "Name: goals_marked, dtype: float64"
      ]
     },
     "execution_count": 28,
     "metadata": {},
     "output_type": "execute_result"
    }
   ],
   "source": [
    "df.groupby('n_att')['goals_marked'].mean()"
   ]
  },
  {
   "cell_type": "code",
   "execution_count": 29,
   "metadata": {},
   "outputs": [
    {
     "data": {
      "text/plain": [
       "n_def\n",
       "3    1.322180\n",
       "4    1.360482\n",
       "5    1.688663\n",
       "Name: goals_received, dtype: float64"
      ]
     },
     "execution_count": 29,
     "metadata": {},
     "output_type": "execute_result"
    }
   ],
   "source": [
    "df.groupby('n_def')['goals_received'].mean()"
   ]
  },
  {
   "cell_type": "markdown",
   "metadata": {},
   "source": [
    "- Formations with more strikers also shoot more goals. When combining the findings from above, this means that when a team has two or three strikers the rest of the team should not also have to offensive positions. \n",
    "\n",
    "- The findings here support the hypothesis that more defensive formations correlate with the goals a team gets. In contrast to what one would think, the more defenders a team has, the more goals it gets. **But correlation is not causality:**  This can be explained by the fact, that when obviously 'inferior' teams play against obviously 'superior' teams (e.g. Real vs. Malaga) they mostly start with a more defensive formation but nevertheless lose and get more goals because they are inferior to the other team."
   ]
  },
  {
   "cell_type": "markdown",
   "metadata": {},
   "source": [
    "#### Likelihood that a team wins depending on the formation"
   ]
  },
  {
   "cell_type": "code",
   "execution_count": 30,
   "metadata": {},
   "outputs": [
    {
     "data": {
      "text/plain": [
       "formation\n",
       "3-4-3    0.047703\n",
       "3-5-2   -0.001182\n",
       "3-6-1   -0.001560\n",
       "4-3-3    0.133237\n",
       "4-4-2    0.047683\n",
       "4-5-1   -0.083893\n",
       "5-3-2   -0.571053\n",
       "5-4-1   -0.772512\n",
       "Name: goals_diff, dtype: float64"
      ]
     },
     "execution_count": 30,
     "metadata": {},
     "output_type": "execute_result"
    }
   ],
   "source": [
    "# creating a column that calculates the difference of goals shot and received\n",
    "df['goals_diff'] = df['goals_marked']-df['goals_received']\n",
    "\n",
    "# and grouping by the formation to see which combination of attackers and defenders is best balanced to shoot\n",
    "# more goals than it received \n",
    "df.groupby('formation')['goals_diff'].mean()"
   ]
  },
  {
   "cell_type": "code",
   "execution_count": 31,
   "metadata": {},
   "outputs": [
    {
     "data": {
      "text/plain": [
       "formation\n",
       "3-4-3      566\n",
       "3-5-2     1692\n",
       "3-6-1      641\n",
       "4-3-3     8969\n",
       "4-4-2    16463\n",
       "4-5-1    19358\n",
       "5-3-2      380\n",
       "5-4-1      211\n",
       "Name: match_outcome, dtype: int64"
      ]
     },
     "execution_count": 31,
     "metadata": {},
     "output_type": "execute_result"
    }
   ],
   "source": [
    "form_counts = df.groupby('formation')['match_outcome'].count()\n",
    "form_counts"
   ]
  },
  {
   "cell_type": "code",
   "execution_count": 32,
   "metadata": {},
   "outputs": [
    {
     "data": {
      "text/plain": [
       "formation\n",
       "3-4-3     211\n",
       "3-5-2     618\n",
       "3-6-1     222\n",
       "4-3-3    3614\n",
       "4-4-2    6366\n",
       "4-5-1    6844\n",
       "5-3-2      93\n",
       "5-4-1      52\n",
       "Name: match_outcome, dtype: int64"
      ]
     },
     "execution_count": 32,
     "metadata": {},
     "output_type": "execute_result"
    }
   ],
   "source": [
    "win_counts = df.query('match_outcome == \"win\"').groupby('formation')['match_outcome'].count()\n",
    "win_counts"
   ]
  },
  {
   "cell_type": "code",
   "execution_count": 33,
   "metadata": {},
   "outputs": [
    {
     "data": {
      "text/plain": [
       "formation\n",
       "3-4-3    0.372792\n",
       "3-5-2    0.365248\n",
       "3-6-1    0.346334\n",
       "4-3-3    0.402943\n",
       "4-4-2    0.386685\n",
       "4-5-1    0.353549\n",
       "5-3-2    0.244737\n",
       "5-4-1    0.246445\n",
       "Name: match_outcome, dtype: float64"
      ]
     },
     "execution_count": 33,
     "metadata": {},
     "output_type": "execute_result"
    }
   ],
   "source": [
    "prob = win_counts/form_counts\n",
    "prob"
   ]
  },
  {
   "cell_type": "code",
   "execution_count": 34,
   "metadata": {},
   "outputs": [
    {
     "data": {
      "text/plain": [
       "0.37323943661971831"
      ]
     },
     "execution_count": 34,
     "metadata": {},
     "output_type": "execute_result"
    }
   ],
   "source": [
    "outcome_prop[0]"
   ]
  },
  {
   "cell_type": "code",
   "execution_count": 35,
   "metadata": {},
   "outputs": [
    {
     "data": {
      "image/png": "[encoded data removed]",
      "text/plain": [
       "<matplotlib.figure.Figure at 0x7f64ece2d3c8>"
      ]
     },
     "metadata": {},
     "output_type": "display_data"
    }
   ],
   "source": [
    "# remember mean of winning = 0.373239\n",
    "\n",
    "df_prob = pd.DataFrame({\"mean\" : [0.373239]}, index = [prob.index.values])\n",
    "df_prob['form_prob'] = prob\n",
    "df_prob\n",
    "\n",
    "fig = plt.figure()\n",
    "df_prob['form_prob'].plot(kind='barh')\n",
    "plt.plot(df_prob['mean'],df_prob.index.values, 'r-')\n",
    "plt.xlabel('Probability to win')\n",
    "plt.ylabel('Formation')\n",
    "plt.axis([0.2, 0.42, -0.5,7.5])\n",
    "plt.title('probability to win a game based on the formation');"
   ]
  },
  {
   "cell_type": "markdown",
   "metadata": {},
   "source": [
    "4-4-2 and 4-3-3 have on scored more goals than they received on average. Teams with 5 defenders were not very succesful in the past and lost more games than they won. "
   ]
  },
  {
   "cell_type": "markdown",
   "metadata": {},
   "source": [
    "<a id='conclusions'></a>\n",
    "## Conclusions"
   ]
  },
  {
   "cell_type": "markdown",
   "metadata": {},
   "source": [
    "- The findings confirm that a formation with 3 attackers on average scores more goals than a formation with 2 or 1 strikers.\n",
    "- Teams that played with 5 defenders were more likely to get more goals than they shot and on average got more goals than teams with less defenders.\n",
    "- When only looking at the number of defenders-statistics there is no clear choice wether 3 or 4 defenders are better in preventing goals. Much more it depends on the whole formation.\n",
    "- In this dataset the formations 4-4-2 and 4-3-3 were the most succesful on average, having 3.0 and 1.3 percentage points higher likelhood to win a match. \n",
    "- The 4-5-1 formation is the most commonly used formation, eventough 4 other formations were more succesful in the past.   "
   ]
  },
  {
   "cell_type": "code",
   "execution_count": 36,
   "metadata": {},
   "outputs": [
    {
     "data": {
      "text/plain": [
       "0"
      ]
     },
     "execution_count": 36,
     "metadata": {},
     "output_type": "execute_result"
    }
   ],
   "source": [
    "from subprocess import call\n",
    "call(['python', '-m', 'nbconvert', 'Investigate_a_Dataset.ipynb'])"
   ]
  },
  {
   "cell_type": "code",
   "execution_count": null,
   "metadata": {},
   "outputs": [],
   "source": []
  }
 ],
 "metadata": {
  "kernelspec": {
   "display_name": "Python 3",
   "language": "python",
   "name": "python3"
  },
  "language_info": {
   "codemirror_mode": {
    "name": "ipython",
    "version": 3
   },
   "file_extension": ".py",
   "mimetype": "text/x-python",
   "name": "python",
   "nbconvert_exporter": "python",
   "pygments_lexer": "ipython3",
   "version": "3.6.3"
  }
 },
 "nbformat": 4,
 "nbformat_minor": 2
}
